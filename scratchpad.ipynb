{
 "cells": [
  {
   "cell_type": "code",
   "execution_count": 1,
   "metadata": {},
   "outputs": [],
   "source": [
    "import os"
   ]
  },
  {
   "cell_type": "code",
   "execution_count": 3,
   "metadata": {},
   "outputs": [
    {
     "name": "stdout",
     "output_type": "stream",
     "text": [
      "(CNN) -- Can a movie actually convince you to support torture? Can a movie really persuade you that \"fracking\" -- a process used to drill for natural gas -- is a danger to the environment? Can a movie truly cause you to view certain minority groups in a negative light?\n",
      "\n",
      "Some scoff at the notion that movies do anything more than entertain. They are wrong. Sure, it's unlikely that one movie alone will change your views on issues of magnitude. But a movie (or TV show) can begin your \"education\" or \"miseducation\" on a topic. And for those already agreeing with the film's thesis, it can further entrench your views.\n",
      "\n",
      "Anyone who doubts the potential influence that movies can have on public opinion need to look no further than two films that are causing an uproar even before they have opened nationwide. They present hot button issues that manage to fire up people from the left and right.\n",
      "\n",
      "The first, \"Zero Dark Thirty,\" is about the pursuit and killing of Osama bin Laden, which features scenes of torture. The second, \"Promised Land,\" stars Matt Damon and explores how the use of fracking to drill for natural gas can pose health and environmental dangers.\n",
      "\n",
      "Critics of \"Zero Dark Thirty\" fear that audiences will accept as true the film's story line that torture was effective in eliciting information to locate bin Laden. They are rightfully concerned that the film will sway some to become more receptive or even supportive of the idea of torturing prisoners.\n",
      "\n",
      "Peter Bergen: Did torture really net bin Laden?\n",
      "\n",
      "Opposition to the film escalated last week as three senior U.S. senators -- John McCain, Carl Levin and Dianne Feinstein -- sent a letter to the film's distributor, Sony Pictures, characterizing the film's use of torture as \"grossly inaccurate and misleading.\" The senators bluntly informed Sony Pictures that it has \"an obligation to state that the role of torture in the hunt for Osama bin Laden is not based on the facts, but rather part of the film's fictional narrative.\"\n",
      "\n",
      "The hostility toward \"Promised Land\" shows us that it's not just politicians who complain about movie messages. Big business -- namely, the gas industry -- is aggressively objecting to the allegation in \"Promised Land\" that fracking poses environmental and health risks.\n",
      "\n",
      "How concerned is the gas industry?\n",
      "\n",
      "It has set up a rapid response team to counter publicity for the film by using two Washington-based groups that lobby for gas and oil companies: the Independent Petroleum Association of America and Energy in Depth. These groups have scrutinized appearances by the films stars on talk shows, questioned who the financiers of the film are, published parts of the script and mocked the film on social media.\n",
      "\n",
      "Energy in Depth went as far as to \"fact check\" a recent appearance by the film's co-star and co-writer, John Krasinski, on \"Late Night With David Letterman.\" Within hours of Krasinski's appearance, Energy in Depth posted a blog on its website pointing out what it perceived as factual errors made by Krasinski about fracking.\n",
      "\n",
      "Regardless of whether \"Zero Dark Thirty\" and \"Promised Land\" intended to promote any message, people who watch them will be \"educated\" in some way on torture and fracking -- even if very subtly.\n",
      "\n",
      "This is the same reason that minority groups continue to object to being represented in a negative light in movies and TV. They understand that accurate representations matter because studies have shown that biases can form based on stereotypes or inaccurate representations. (Being of Italian and Arab descent, I'm acutely aware of this issue as my respective heritages have been represented by a parade of mobsters and terrorists.)\n",
      "\n",
      "What's Hollywood's role in all of this? The same as it has always been -- to make money.\n",
      "\n",
      "In fact, there's no doubt that the studios behind these movies are overjoyed at the controversy that has erupted and the resulting free press. Indeed, the response of Sony Pictures to the uproar over \"Zero Dark Thirty\" tells you about what they really hope we will all do: \"We encourage people to see the film before characterizing it.\"\n",
      "\n",
      "So go ahead, enjoy these films and ones like them that are based on actual events or current hot issues. But while you are watching them, be aware you might be getting more than the price of ticket. You might also be getting a (mis)education.\n",
      "\n",
      "The opinions expressed in this commentary are solely those of Dean Obeidallah.\n",
      "\n",
      "@highlight\n",
      "\n",
      "Dean Obeidallah: A movie or TV show can educate or (mis)educate you\n",
      "\n",
      "@highlight\n",
      "\n",
      "Obeidallah: Two new films about hot issues are firing up both the left and right\n",
      "\n",
      "@highlight\n",
      "\n",
      "Senators slammed \"Zero Dark Thirty,\" and energy industry attacked \"Promised Land\"\n",
      "\n",
      "@highlight\n",
      "\n",
      "Obeidallah: What does Hollywood want? To make money, of course\n"
     ]
    }
   ],
   "source": [
    "with open('cnn/stories/0a0a4c90d59df9e36ffec4ba306b4f20f3ba4acb.story') as f:\n",
    "    story = f.read()\n",
    "    print(story)"
   ]
  },
  {
   "cell_type": "code",
   "execution_count": 4,
   "metadata": {},
   "outputs": [],
   "source": [
    "index = story.find('@highlight')"
   ]
  },
  {
   "cell_type": "code",
   "execution_count": 6,
   "metadata": {},
   "outputs": [],
   "source": [
    "story, highlights = story[:index], story[index:].split('@highlight')"
   ]
  },
  {
   "cell_type": "code",
   "execution_count": 8,
   "metadata": {},
   "outputs": [
    {
     "name": "stdout",
     "output_type": "stream",
     "text": [
      "(CNN) -- Can a movie actually convince you to support torture? Can a movie really persuade you that \"fracking\" -- a process used to drill for natural gas -- is a danger to the environment? Can a movie truly cause you to view certain minority groups in a negative light?\n",
      "\n",
      "Some scoff at the notion that movies do anything more than entertain. They are wrong. Sure, it's unlikely that one movie alone will change your views on issues of magnitude. But a movie (or TV show) can begin your \"education\" or \"miseducation\" on a topic. And for those already agreeing with the film's thesis, it can further entrench your views.\n",
      "\n",
      "Anyone who doubts the potential influence that movies can have on public opinion need to look no further than two films that are causing an uproar even before they have opened nationwide. They present hot button issues that manage to fire up people from the left and right.\n",
      "\n",
      "The first, \"Zero Dark Thirty,\" is about the pursuit and killing of Osama bin Laden, which features scenes of torture. The second, \"Promised Land,\" stars Matt Damon and explores how the use of fracking to drill for natural gas can pose health and environmental dangers.\n",
      "\n",
      "Critics of \"Zero Dark Thirty\" fear that audiences will accept as true the film's story line that torture was effective in eliciting information to locate bin Laden. They are rightfully concerned that the film will sway some to become more receptive or even supportive of the idea of torturing prisoners.\n",
      "\n",
      "Peter Bergen: Did torture really net bin Laden?\n",
      "\n",
      "Opposition to the film escalated last week as three senior U.S. senators -- John McCain, Carl Levin and Dianne Feinstein -- sent a letter to the film's distributor, Sony Pictures, characterizing the film's use of torture as \"grossly inaccurate and misleading.\" The senators bluntly informed Sony Pictures that it has \"an obligation to state that the role of torture in the hunt for Osama bin Laden is not based on the facts, but rather part of the film's fictional narrative.\"\n",
      "\n",
      "The hostility toward \"Promised Land\" shows us that it's not just politicians who complain about movie messages. Big business -- namely, the gas industry -- is aggressively objecting to the allegation in \"Promised Land\" that fracking poses environmental and health risks.\n",
      "\n",
      "How concerned is the gas industry?\n",
      "\n",
      "It has set up a rapid response team to counter publicity for the film by using two Washington-based groups that lobby for gas and oil companies: the Independent Petroleum Association of America and Energy in Depth. These groups have scrutinized appearances by the films stars on talk shows, questioned who the financiers of the film are, published parts of the script and mocked the film on social media.\n",
      "\n",
      "Energy in Depth went as far as to \"fact check\" a recent appearance by the film's co-star and co-writer, John Krasinski, on \"Late Night With David Letterman.\" Within hours of Krasinski's appearance, Energy in Depth posted a blog on its website pointing out what it perceived as factual errors made by Krasinski about fracking.\n",
      "\n",
      "Regardless of whether \"Zero Dark Thirty\" and \"Promised Land\" intended to promote any message, people who watch them will be \"educated\" in some way on torture and fracking -- even if very subtly.\n",
      "\n",
      "This is the same reason that minority groups continue to object to being represented in a negative light in movies and TV. They understand that accurate representations matter because studies have shown that biases can form based on stereotypes or inaccurate representations. (Being of Italian and Arab descent, I'm acutely aware of this issue as my respective heritages have been represented by a parade of mobsters and terrorists.)\n",
      "\n",
      "What's Hollywood's role in all of this? The same as it has always been -- to make money.\n",
      "\n",
      "In fact, there's no doubt that the studios behind these movies are overjoyed at the controversy that has erupted and the resulting free press. Indeed, the response of Sony Pictures to the uproar over \"Zero Dark Thirty\" tells you about what they really hope we will all do: \"We encourage people to see the film before characterizing it.\"\n",
      "\n",
      "So go ahead, enjoy these films and ones like them that are based on actual events or current hot issues. But while you are watching them, be aware you might be getting more than the price of ticket. You might also be getting a (mis)education.\n",
      "\n",
      "The opinions expressed in this commentary are solely those of Dean Obeidallah.\n",
      "\n",
      "\n"
     ]
    }
   ],
   "source": [
    "print(story)"
   ]
  },
  {
   "cell_type": "code",
   "execution_count": 9,
   "metadata": {},
   "outputs": [
    {
     "name": "stdout",
     "output_type": "stream",
     "text": [
      "['', '\\n\\nDean Obeidallah: A movie or TV show can educate or (mis)educate you\\n\\n', '\\n\\nObeidallah: Two new films about hot issues are firing up both the left and right\\n\\n', '\\n\\nSenators slammed \"Zero Dark Thirty,\" and energy industry attacked \"Promised Land\"\\n\\n', '\\n\\nObeidallah: What does Hollywood want? To make money, of course']\n"
     ]
    }
   ],
   "source": [
    "print(highlights)"
   ]
  },
  {
   "cell_type": "code",
   "execution_count": 10,
   "metadata": {},
   "outputs": [],
   "source": [
    "highlights = [h.strip() for h in highlights if len(h) > 0]"
   ]
  },
  {
   "cell_type": "code",
   "execution_count": 11,
   "metadata": {},
   "outputs": [
    {
     "name": "stdout",
     "output_type": "stream",
     "text": [
      "['Dean Obeidallah: A movie or TV show can educate or (mis)educate you', 'Obeidallah: Two new films about hot issues are firing up both the left and right', 'Senators slammed \"Zero Dark Thirty,\" and energy industry attacked \"Promised Land\"', 'Obeidallah: What does Hollywood want? To make money, of course']\n"
     ]
    }
   ],
   "source": [
    "print(highlights)"
   ]
  },
  {
   "cell_type": "code",
   "execution_count": 25,
   "metadata": {},
   "outputs": [
    {
     "ename": "SyntaxError",
     "evalue": "invalid syntax (<ipython-input-25-873fc1a35863>, line 1)",
     "output_type": "error",
     "traceback": [
      "\u001b[0;36m  File \u001b[0;32m\"<ipython-input-25-873fc1a35863>\"\u001b[0;36m, line \u001b[0;32m1\u001b[0m\n\u001b[0;31m    from data_cleaning.ipynb import load_doc(filename), write_story_highlight_diff_files(filename, story, highlights),\u001b[0m\n\u001b[0m                                            ^\u001b[0m\n\u001b[0;31mSyntaxError\u001b[0m\u001b[0;31m:\u001b[0m invalid syntax\n"
     ]
    }
   ],
   "source": [
    "from data_cleaning.ipynb import load_doc(filename), write_story_highlight_diff_files(filename, story, highlights), \n",
    "write_story_highlight(filename, story, highlights),split_story(doc), load_stories(directory), clean_lines(lines)"
   ]
  },
  {
   "cell_type": "code",
   "execution_count": null,
   "metadata": {},
   "outputs": [],
   "source": []
  }
 ],
 "metadata": {
  "kernelspec": {
   "display_name": "Python 3",
   "language": "python",
   "name": "python3"
  },
  "language_info": {
   "codemirror_mode": {
    "name": "ipython",
    "version": 3
   },
   "file_extension": ".py",
   "mimetype": "text/x-python",
   "name": "python",
   "nbconvert_exporter": "python",
   "pygments_lexer": "ipython3",
   "version": "3.7.4"
  }
 },
 "nbformat": 4,
 "nbformat_minor": 4
}
